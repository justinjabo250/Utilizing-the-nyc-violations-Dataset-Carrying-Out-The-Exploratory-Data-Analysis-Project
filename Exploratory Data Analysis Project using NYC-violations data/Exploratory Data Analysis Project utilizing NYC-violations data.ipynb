{
 "cells": [
  {
   "cell_type": "markdown",
   "id": "18f90390",
   "metadata": {},
   "source": [
    "\n",
    "<!-- Using the same nyc-ticket-violation dataset, let's assume that tickets can \n",
    "be dismissed if the license plate, state, and/or street name are all there\n",
    "but without requiring the make of car. \n",
    "Remove rows that are missing one or more of these. \n",
    "How many rows remain? Assuming $100/ticket, how much money would the city lose as a result of this? -->"
   ]
  },
  {
   "cell_type": "markdown",
   "id": "dc17793b",
   "metadata": {},
   "source": [
    "# Using the same nyc-ticket-violation dataset, let’s assume that tickets can be dismissed if the license plate, state, and/or street name are all there but without requiring the make of car. Remove rows that are missing one or more of these. How many rows remain? Assuming 100 / ticket, how much money would the city lose as a result of this?"
   ]
  },
  {
   "cell_type": "code",
   "execution_count": 14,
   "id": "9b7dab04",
   "metadata": {},
   "outputs": [],
   "source": [
    "import pandas as pd\n",
    "df= pd.DataFrame\n",
    "from matplotlib import pyplot as plt"
   ]
  },
  {
   "cell_type": "code",
   "execution_count": 15,
   "id": "857259da",
   "metadata": {},
   "outputs": [],
   "source": [
    "df=pd.read_csv('data.csv', usecols=['Plate ID', 'Registration State', 'Street Name'])"
   ]
  },
  {
   "cell_type": "code",
   "execution_count": 16,
   "id": "264f242a",
   "metadata": {},
   "outputs": [
    {
     "data": {
      "text/plain": [
       "(50113, 3)"
      ]
     },
     "execution_count": 16,
     "metadata": {},
     "output_type": "execute_result"
    }
   ],
   "source": [
    "df.shape"
   ]
  },
  {
   "cell_type": "code",
   "execution_count": 17,
   "id": "87912f0f",
   "metadata": {},
   "outputs": [
    {
     "data": {
      "text/html": [
       "<div>\n",
       "<style scoped>\n",
       "    .dataframe tbody tr th:only-of-type {\n",
       "        vertical-align: middle;\n",
       "    }\n",
       "\n",
       "    .dataframe tbody tr th {\n",
       "        vertical-align: top;\n",
       "    }\n",
       "\n",
       "    .dataframe thead th {\n",
       "        text-align: right;\n",
       "    }\n",
       "</style>\n",
       "<table border=\"1\" class=\"dataframe\">\n",
       "  <thead>\n",
       "    <tr style=\"text-align: right;\">\n",
       "      <th></th>\n",
       "      <th>Plate ID</th>\n",
       "      <th>Registration State</th>\n",
       "      <th>Street Name</th>\n",
       "    </tr>\n",
       "  </thead>\n",
       "  <tbody>\n",
       "    <tr>\n",
       "      <th>0</th>\n",
       "      <td>KGK6659</td>\n",
       "      <td>NY</td>\n",
       "      <td>WB ATLANTIC AVE @ SH</td>\n",
       "    </tr>\n",
       "    <tr>\n",
       "      <th>1</th>\n",
       "      <td>L5232HY</td>\n",
       "      <td>TN</td>\n",
       "      <td>Rockaway Beach Blvd</td>\n",
       "    </tr>\n",
       "    <tr>\n",
       "      <th>2</th>\n",
       "      <td>BPMN76</td>\n",
       "      <td>FL</td>\n",
       "      <td>W 113th St</td>\n",
       "    </tr>\n",
       "    <tr>\n",
       "      <th>3</th>\n",
       "      <td>57387MJ</td>\n",
       "      <td>NY</td>\n",
       "      <td>W 33rd St</td>\n",
       "    </tr>\n",
       "    <tr>\n",
       "      <th>4</th>\n",
       "      <td>M81KFJ</td>\n",
       "      <td>NJ</td>\n",
       "      <td>WB FOSTER AVE @ E 18</td>\n",
       "    </tr>\n",
       "  </tbody>\n",
       "</table>\n",
       "</div>"
      ],
      "text/plain": [
       "  Plate ID Registration State           Street Name\n",
       "0  KGK6659                 NY  WB ATLANTIC AVE @ SH\n",
       "1  L5232HY                 TN   Rockaway Beach Blvd\n",
       "2   BPMN76                 FL            W 113th St\n",
       "3  57387MJ                 NY             W 33rd St\n",
       "4   M81KFJ                 NJ  WB FOSTER AVE @ E 18"
      ]
     },
     "execution_count": 17,
     "metadata": {},
     "output_type": "execute_result"
    }
   ],
   "source": [
    "df.head()"
   ]
  },
  {
   "cell_type": "code",
   "execution_count": 18,
   "id": "03b37199",
   "metadata": {},
   "outputs": [
    {
     "name": "stdout",
     "output_type": "stream",
     "text": [
      "<class 'pandas.core.frame.DataFrame'>\n",
      "RangeIndex: 50113 entries, 0 to 50112\n",
      "Data columns (total 3 columns):\n",
      " #   Column              Non-Null Count  Dtype \n",
      "---  ------              --------------  ----- \n",
      " 0   Plate ID            50000 non-null  object\n",
      " 1   Registration State  50000 non-null  object\n",
      " 2   Street Name         49990 non-null  object\n",
      "dtypes: object(3)\n",
      "memory usage: 1.1+ MB\n"
     ]
    }
   ],
   "source": [
    "df.info()"
   ]
  },
  {
   "cell_type": "code",
   "execution_count": 19,
   "id": "01314c6f",
   "metadata": {},
   "outputs": [
    {
     "data": {
      "text/plain": [
       "Plate ID              113\n",
       "Registration State    113\n",
       "Street Name           123\n",
       "dtype: int64"
      ]
     },
     "execution_count": 19,
     "metadata": {},
     "output_type": "execute_result"
    }
   ],
   "source": [
    "\n",
    "\n",
    "# count rows with missing data\n",
    "df.isnull().sum()"
   ]
  },
  {
   "cell_type": "markdown",
   "id": "2d0779b1",
   "metadata": {},
   "source": [
    "# Question 1: Remove rows that are missing one or more of these. "
   ]
  },
  {
   "cell_type": "code",
   "execution_count": 20,
   "id": "3308d2b1",
   "metadata": {},
   "outputs": [],
   "source": [
    "my_null=df.dropna() # drops rows with null values"
   ]
  },
  {
   "cell_type": "code",
   "execution_count": 21,
   "id": "b04c849d",
   "metadata": {},
   "outputs": [
    {
     "data": {
      "text/html": [
       "<div>\n",
       "<style scoped>\n",
       "    .dataframe tbody tr th:only-of-type {\n",
       "        vertical-align: middle;\n",
       "    }\n",
       "\n",
       "    .dataframe tbody tr th {\n",
       "        vertical-align: top;\n",
       "    }\n",
       "\n",
       "    .dataframe thead th {\n",
       "        text-align: right;\n",
       "    }\n",
       "</style>\n",
       "<table border=\"1\" class=\"dataframe\">\n",
       "  <thead>\n",
       "    <tr style=\"text-align: right;\">\n",
       "      <th></th>\n",
       "      <th>Plate ID</th>\n",
       "      <th>Registration State</th>\n",
       "      <th>Street Name</th>\n",
       "    </tr>\n",
       "  </thead>\n",
       "  <tbody>\n",
       "    <tr>\n",
       "      <th>0</th>\n",
       "      <td>KGK6659</td>\n",
       "      <td>NY</td>\n",
       "      <td>WB ATLANTIC AVE @ SH</td>\n",
       "    </tr>\n",
       "    <tr>\n",
       "      <th>1</th>\n",
       "      <td>L5232HY</td>\n",
       "      <td>TN</td>\n",
       "      <td>Rockaway Beach Blvd</td>\n",
       "    </tr>\n",
       "    <tr>\n",
       "      <th>2</th>\n",
       "      <td>BPMN76</td>\n",
       "      <td>FL</td>\n",
       "      <td>W 113th St</td>\n",
       "    </tr>\n",
       "    <tr>\n",
       "      <th>3</th>\n",
       "      <td>57387MJ</td>\n",
       "      <td>NY</td>\n",
       "      <td>W 33rd St</td>\n",
       "    </tr>\n",
       "    <tr>\n",
       "      <th>4</th>\n",
       "      <td>M81KFJ</td>\n",
       "      <td>NJ</td>\n",
       "      <td>WB FOSTER AVE @ E 18</td>\n",
       "    </tr>\n",
       "    <tr>\n",
       "      <th>...</th>\n",
       "      <td>...</td>\n",
       "      <td>...</td>\n",
       "      <td>...</td>\n",
       "    </tr>\n",
       "    <tr>\n",
       "      <th>49995</th>\n",
       "      <td>JPN4910</td>\n",
       "      <td>NY</td>\n",
       "      <td>EB E 125TH ST @ 2ND</td>\n",
       "    </tr>\n",
       "    <tr>\n",
       "      <th>49996</th>\n",
       "      <td>174ZYG</td>\n",
       "      <td>CT</td>\n",
       "      <td>W 13th St</td>\n",
       "    </tr>\n",
       "    <tr>\n",
       "      <th>49997</th>\n",
       "      <td>HES6895</td>\n",
       "      <td>NY</td>\n",
       "      <td>E 182nd St</td>\n",
       "    </tr>\n",
       "    <tr>\n",
       "      <th>49998</th>\n",
       "      <td>63035MN</td>\n",
       "      <td>NY</td>\n",
       "      <td>W Kingsbridge Rd</td>\n",
       "    </tr>\n",
       "    <tr>\n",
       "      <th>49999</th>\n",
       "      <td>AW74165</td>\n",
       "      <td>CT</td>\n",
       "      <td>Canal Pl</td>\n",
       "    </tr>\n",
       "  </tbody>\n",
       "</table>\n",
       "<p>49990 rows × 3 columns</p>\n",
       "</div>"
      ],
      "text/plain": [
       "      Plate ID Registration State           Street Name\n",
       "0      KGK6659                 NY  WB ATLANTIC AVE @ SH\n",
       "1      L5232HY                 TN   Rockaway Beach Blvd\n",
       "2       BPMN76                 FL            W 113th St\n",
       "3      57387MJ                 NY             W 33rd St\n",
       "4       M81KFJ                 NJ  WB FOSTER AVE @ E 18\n",
       "...        ...                ...                   ...\n",
       "49995  JPN4910                 NY   EB E 125TH ST @ 2ND\n",
       "49996   174ZYG                 CT             W 13th St\n",
       "49997  HES6895                 NY            E 182nd St\n",
       "49998  63035MN                 NY      W Kingsbridge Rd\n",
       "49999  AW74165                 CT              Canal Pl\n",
       "\n",
       "[49990 rows x 3 columns]"
      ]
     },
     "execution_count": 21,
     "metadata": {},
     "output_type": "execute_result"
    }
   ],
   "source": [
    "my_null"
   ]
  },
  {
   "cell_type": "code",
   "execution_count": 22,
   "id": "0c10b60c",
   "metadata": {},
   "outputs": [
    {
     "name": "stdout",
     "output_type": "stream",
     "text": [
      "Remaining Rows: (49990, 3)\n"
     ]
    }
   ],
   "source": [
    "ndf=my_null.shape\n",
    "print(f\"Remaining Rows:\", ndf)"
   ]
  },
  {
   "cell_type": "markdown",
   "id": "8a7acac8",
   "metadata": {},
   "source": [
    "## Question 2\n",
    "### How many rows remain? Assuming 100 dollars/ticket, how much money would the city lose as a result of this? -->"
   ]
  },
  {
   "cell_type": "code",
   "execution_count": 26,
   "id": "31db93dc",
   "metadata": {},
   "outputs": [
    {
     "name": "stdout",
     "output_type": "stream",
     "text": [
      "<class 'pandas.core.frame.DataFrame'>\n",
      "Int64Index: 49990 entries, 0 to 49999\n",
      "Data columns (total 3 columns):\n",
      " #   Column              Non-Null Count  Dtype \n",
      "---  ------              --------------  ----- \n",
      " 0   Plate ID            49990 non-null  object\n",
      " 1   Registration State  49990 non-null  object\n",
      " 2   Street Name         49990 non-null  object\n",
      "dtypes: object(3)\n",
      "memory usage: 1.5+ MB\n"
     ]
    }
   ],
   "source": [
    "my_null.info()"
   ]
  },
  {
   "cell_type": "code",
   "execution_count": 27,
   "id": "b73a21be",
   "metadata": {},
   "outputs": [],
   "source": [
    "del_row = df.shape[0] - my_null.shape[0]"
   ]
  },
  {
   "cell_type": "code",
   "execution_count": 28,
   "id": "5b8c99f1",
   "metadata": {},
   "outputs": [
    {
     "name": "stdout",
     "output_type": "stream",
     "text": [
      "Deleted Rows =  123\n"
     ]
    }
   ],
   "source": [
    "print(f\"Deleted Rows = \", del_row )"
   ]
  },
  {
   "cell_type": "code",
   "execution_count": 29,
   "id": "838fa59a",
   "metadata": {},
   "outputs": [
    {
     "name": "stdout",
     "output_type": "stream",
     "text": [
      "Revenue Lost =  12300\n"
     ]
    }
   ],
   "source": [
    "print(f\"Revenue Lost = \", del_row * 100) \n",
    "\n"
   ]
  },
  {
   "cell_type": "code",
   "execution_count": null,
   "id": "b016b3c4-991d-4dce-99da-c7a79617d24a",
   "metadata": {},
   "outputs": [],
   "source": []
  },
  {
   "cell_type": "code",
   "execution_count": null,
   "id": "3a8b4b06-6a2b-437a-8d80-3511ae1ec7b2",
   "metadata": {},
   "outputs": [],
   "source": []
  }
 ],
 "metadata": {
  "kernelspec": {
   "display_name": "Python 3 (ipykernel)",
   "language": "python",
   "name": "python3"
  },
  "language_info": {
   "codemirror_mode": {
    "name": "ipython",
    "version": 3
   },
   "file_extension": ".py",
   "mimetype": "text/x-python",
   "name": "python",
   "nbconvert_exporter": "python",
   "pygments_lexer": "ipython3",
   "version": "3.9.13"
  }
 },
 "nbformat": 4,
 "nbformat_minor": 5
}
